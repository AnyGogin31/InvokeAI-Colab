{
  "nbformat": 4,
  "nbformat_minor": 0,
  "metadata": {
    "colab": {
      "provenance": [],
      "gpuType": "T4"
    },
    "kernelspec": {
      "name": "python3",
      "display_name": "Python 3"
    },
    "language_info": {
      "name": "python"
    },
    "accelerator": "GPU"
  },
  "cells": [
    {
      "cell_type": "code",
      "source": [
        "!nvidia-smi -L"
      ],
      "metadata": {
        "id": "z3TuHCnN5_f5"
      },
      "execution_count": null,
      "outputs": []
    },
    {
      "cell_type": "code",
      "source": [
        "# @markdown # **Step 0.** _Removing sample_data_\n",
        "\n",
        "!rm -rf /content/sample_data"
      ],
      "metadata": {
        "id": "m0L47Giut16s",
        "cellView": "form"
      },
      "execution_count": null,
      "outputs": []
    },
    {
      "cell_type": "code",
      "source": [
        "# @markdown # **Step 1.** _Installing repositories_\n",
        "\n",
        "import os\n",
        "\n",
        "from google.colab import output\n",
        "\n",
        "%cd /content\n",
        "\n",
        "# Cloning a repository (https://github.com/AnyGogin31/InvokeAI-Colab)\n",
        "\n",
        "if not os.path.exists(\"./InvokeAI-Colab\"):\n",
        "    !git clone -q https://github.com/AnyGogin31/InvokeAI-Colab.git\n",
        "\n",
        "# Cloning a repository (https://github.com/invoke-ai/InvokeAI)\n",
        "\n",
        "if not os.path.exists(\"./InvokeAI\"):\n",
        "    !git clone -q https://github.com/invoke-ai/InvokeAI.git\n",
        "\n",
        "# Clearing the output\n",
        "\n",
        "output.clear()"
      ],
      "metadata": {
        "id": "knOJJYTPqTQ6",
        "cellView": "form"
      },
      "execution_count": null,
      "outputs": []
    },
    {
      "cell_type": "code",
      "source": [
        "# @markdown # **Step 2.** _Installing conda_\n",
        "\n",
        "import os\n",
        "\n",
        "from google.colab import output\n",
        "\n",
        "%cd /content\n",
        "\n",
        "# Installing conda\n",
        "\n",
        "if not os.path.exists(\"/usr/local/bin/conda\"):\n",
        "    !wget -q https://repo.anaconda.com/miniconda/Miniconda3-latest-Linux-x86_64.sh\n",
        "    !bash Miniconda3-latest-Linux-x86_64.sh -bfp /usr/local\n",
        "    !rm Miniconda3-latest-Linux-x86_64.sh\n",
        "\n",
        "# Clearing the output\n",
        "\n",
        "output.clear()"
      ],
      "metadata": {
        "id": "H3i8fr4ay-RT",
        "cellView": "form"
      },
      "execution_count": null,
      "outputs": []
    },
    {
      "cell_type": "code",
      "source": [
        "# @markdown # **Step 3.** _Installing dependencies_\n",
        "\n",
        "import os\n",
        "\n",
        "from google.colab import output\n",
        "\n",
        "%cd /content\n",
        "\n",
        "# Setting environment variables\n",
        "\n",
        "invokeai_root_dir = os.path.join(os.getcwd(), \"invokeai\")\n",
        "\n",
        "os.environ[\"INVOKEAI_ROOT_DIR\"] = invokeai_root_dir\n",
        "\n",
        "kernel_name = \"invokeai_kernel\"\n",
        "kernel_prefix = os.path.join(\"/usr/local/envs/\", kernel_name)\n",
        "\n",
        "os.environ[\"INVOKEAI_KERNEL_NAME\"] = kernel_name\n",
        "os.environ[\"INVOKEAI_KERNEL_PREFIX\"] = kernel_prefix\n",
        "\n",
        "# Installing dependencies\n",
        "\n",
        "%cd ./InvokeAI-Colab\n",
        "\n",
        "!chmod +x *.sh\n",
        "!bash install_dependencies.sh\n",
        "\n",
        "# Clearing the output\n",
        "\n",
        "output.clear()"
      ],
      "metadata": {
        "id": "wOmcSYzG7Bpf",
        "cellView": "form"
      },
      "execution_count": null,
      "outputs": []
    },
    {
      "cell_type": "code",
      "source": [
        "# @markdown # Loading from google drive (optional)\n",
        "\n",
        "import os\n",
        "\n",
        "from google.colab import drive, output\n",
        "\n",
        "drive_path = \"/content/drive\"\n",
        "drive_invokeai_root_dir = f\"{drive_path}/MyDrive/InvokeAI/invokeai\"\n",
        "\n",
        "try:\n",
        "    drive.mount(drive_path, force_remount=False)\n",
        "    os.makedirs(drive_invokeai_root_dir, exist_ok=True)\n",
        "except:\n",
        "    print(\"Error connecting storage\")\n",
        "\n",
        "!ln -s {drive_invokeai_root_dir} {invokeai_root_dir}\n",
        "\n",
        "output.clear()"
      ],
      "metadata": {
        "id": "A_-y_rxTK--f",
        "cellView": "form"
      },
      "execution_count": null,
      "outputs": []
    },
    {
      "cell_type": "code",
      "source": [
        "# @markdown # **Step 4.** _Launch of InvokeAI_\n",
        "\n",
        "import os\n",
        "\n",
        "from google.colab import userdata\n",
        "\n",
        "%cd /content/InvokeAI-Colab\n",
        "\n",
        "# Launch Configuration\n",
        "\n",
        "config_path = os.path.join(invokeai_root_dir, \"invokeai.yaml\")\n",
        "\n",
        "os.environ[\"INVOKEAI_CONFIG_PATH\"] = config_path\n",
        "\n",
        "os.environ[\"NGROK_TOKEN\"] = userdata.get(\"NGROK_TOKEN\")\n",
        "os.environ[\"NGROK_DOMAIN\"] = userdata.get(\"NGROK_DOMAIN\")\n",
        "\n",
        "# Launch of InvokeAI\n",
        "\n",
        "!chmod +x *.sh\n",
        "!bash start.sh"
      ],
      "metadata": {
        "id": "EWcCapmsBd4G",
        "cellView": "form"
      },
      "execution_count": null,
      "outputs": []
    }
  ]
}